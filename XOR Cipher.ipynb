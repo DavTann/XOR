{
 "cells": [
  {
   "cell_type": "markdown",
   "id": "31087fdc",
   "metadata": {},
   "source": [
    "# Let's Break a Binary Cipher"
   ]
  },
  {
   "cell_type": "markdown",
   "id": "0431aff7",
   "metadata": {},
   "source": [
    "While ciphers in the past worked on letters, words and symbols, computers opened up new doors in cryptography by operating at a binary level. We're going to learn about a type of cipher that can be used to encrypt files at the binary level, and then see how an attacker could break it.\n",
    "\n",
    "#### Discussion: where do you think you encounter encryption in your day-to-day life?\n",
    "\n",
    "This activity is powered by Python code, but you can safely ignore it. Whenever you see grey code boxes like below, feel free to scroll right past, unless you're wanting to get a deeper understanding of how I built this. "
   ]
  },
  {
   "cell_type": "markdown",
   "id": "42dcac4a",
   "metadata": {},
   "source": [
    "   #### Load some necessary add-ons"
   ]
  },
  {
   "cell_type": "code",
   "execution_count": null,
   "id": "067b35cb",
   "metadata": {},
   "outputs": [],
   "source": [
    "from PIL import Image #To create images\n",
    "from IPython import display #To display images\n",
    "import secrets #To get random bytes\n",
    "import ipywidgets as widgets\n",
    "import uuid #To get random file names"
   ]
  },
  {
   "cell_type": "markdown",
   "id": "aac2d2fd",
   "metadata": {},
   "source": [
    "#### Create some functions of our own"
   ]
  },
  {
   "cell_type": "code",
   "execution_count": null,
   "id": "4241f059",
   "metadata": {
    "scrolled": true
   },
   "outputs": [],
   "source": [
    "#This function takes in a file and gives a bytes for it\n",
    "def load_file_as_bytes(filename,max_len=-1):\n",
    "    file_in = open(filename,'rb')\n",
    "    byte_array = bytearray()\n",
    "    byte_in = file_in.read(1)\n",
    "    while byte_in != b\"\" and ((len(byte_array) < max_len) or (max_len == -1)):\n",
    "        byte_array += byte_in\n",
    "        byte_in = file_in.read(1)\n",
    "        \n",
    "    file_in.close()\n",
    "    \n",
    "    return byte_array\n",
    "            \n",
    "#This function creates a black-and-white picture of our bytes (black=0, white=1)\n",
    "def draw_image_from_byte_array(b_array,filename=\"imgout.png\",width=2048,height=2048):\n",
    "    assert (width%8 == 0)\n",
    "    \n",
    "    if len(b_array) < (width * height//8):\n",
    "        height = len(b_array)//(width//8)\n",
    "    img = Image.new(\"1\", (width,height))\n",
    "    \n",
    "    for row in range(height):\n",
    "        for byte_index in range(width//8):  \n",
    "            byte = b_array[row*(width//8) + byte_index]\n",
    "            for bit_index in range(8):\n",
    "                b = (byte >> (7-bit_index))%2               \n",
    "                img.putpixel((byte_index*8 + bit_index,row),b)\n",
    "                \n",
    "    img.save(filename)\n",
    "\n",
    "def present_binary(filename):\n",
    "    width = width_slider.value\n",
    "    height = height_slider.value\n",
    "    b = load_file_as_bytes(filename,max_len=width*height)\n",
    "    tmp_filename = str(uuid.uuid4())+\".png\"\n",
    "    draw_image_from_byte_array(b,tmp_filename,width,height)\n",
    "    return display.Image(tmp_filename,width=width*zoom_slider.value,height=height*zoom_slider.value)"
   ]
  },
  {
   "cell_type": "markdown",
   "id": "7100ad39",
   "metadata": {},
   "source": [
    "<a id='skip_to_start'></a>\n",
    "## Look at files in binary\n",
    "\n",
    "We can visualise the binary data to give us a better understanding of the file structure. This can help in understanding what the file type is. The widgets below will let you see the start of several different file types. Changing the width and height sliders below might help you see more meaningful structures in the files. Each pixel is a bit, with black being 0, and white being 1."
   ]
  },
  {
   "cell_type": "code",
   "execution_count": null,
   "id": "825c3d2d",
   "metadata": {
    "scrolled": false
   },
   "outputs": [],
   "source": [
    "file_dict = {\n",
    "    \"Image\":\"image.bmp\",\n",
    "    \"Text\":\"alice.txt\",\n",
    "    \"ZIP\":\"example.zip\",\n",
    "    \"Program\":\"program.exe\",\n",
    "    \"PDF\":\"puzzles.pdf\",\n",
    "    \"Song\":\"song.wav\"\n",
    "}\n",
    "\n",
    "def button_present(_arg):\n",
    "    out.clear_output()\n",
    "    out.append_display_data(present_binary(path_to_samples+file_dict[rdbuttons.value]))\n",
    "    \n",
    "width_slider = widgets.IntSlider(value=256,min=64,max=1024,step=8,description='Width')\n",
    "height_slider = widgets.IntSlider(value=256,min=64,max=1024,description='Height')\n",
    "zoom_slider = widgets.FloatSlider(value=1.0,min=0.5,max=4.0,description='Zoom factor')\n",
    "path_to_samples = \"Sample Files/\"\n",
    "out = widgets.Output()\n",
    "\n",
    "button = widgets.Button(description=\"Analyse!\")\n",
    "button.on_click(button_present)\n",
    "\n",
    "rdbuttons = widgets.RadioButtons(\n",
    "    options=file_dict.keys(),\n",
    "    description='File type:'\n",
    ")\n",
    "\n",
    "widgets.VBox([width_slider,height_slider,zoom_slider,rdbuttons,button,out])"
   ]
  },
  {
   "cell_type": "markdown",
   "id": "c7bb8fd3",
   "metadata": {},
   "source": [
    "Each file type could be storing its data in different ways.\n",
    "\n",
    "#### Discussion: What structures could you see? Did some widths make these more evident?"
   ]
  },
  {
   "cell_type": "markdown",
   "id": "d74196bf",
   "metadata": {},
   "source": [
    "## Look at random\n",
    "\n",
    "In some sense, the purpose of encryption is to make the encrypted data look as random as possible. We'll see later that any structure left in the encrypted data might be exploitable to find patterns that help us break the cipher.\n",
    "\n",
    "Humans are pretty bad judges of random, often seeing meaning and structure where there isn't any. Thankfully, computers can be very good at being unbiased. Press the button below to generate a giant block of computer random."
   ]
  },
  {
   "cell_type": "code",
   "execution_count": null,
   "id": "8014a716",
   "metadata": {
    "scrolled": false
   },
   "outputs": [],
   "source": [
    "def random_present(arg):\n",
    "    with out2:\n",
    "        out2.clear_output()\n",
    "        random_bytes = secrets.token_bytes(512*512)\n",
    "        draw_image_from_byte_array(random_bytes,filename=\"random.png\",width=512,height=512)\n",
    "        out2.append_display_data(display.Image(\"random.png\"))\n",
    "\n",
    "\n",
    "out2 = widgets.Output()\n",
    "button2 = widgets.Button(description=\"Generate random!\")\n",
    "button2.on_click(random_present)\n",
    "\n",
    "widgets.VBox([button2,out2])"
   ]
  },
  {
   "cell_type": "markdown",
   "id": "c6fd6c63",
   "metadata": {},
   "source": [
    "#### Discussion: How does this compare to the files we saw earlier? Did one of the files look particularly random before?"
   ]
  },
  {
   "cell_type": "markdown",
   "id": "cd34f08d",
   "metadata": {},
   "source": [
    "With that settled, let's move on to a binary operation we'll use."
   ]
  },
  {
   "cell_type": "markdown",
   "id": "58d67640",
   "metadata": {},
   "source": [
    "## Exclusive-Or (XOR)\n",
    "\n",
    "XOR (Exclusive-or) (symbol ⊕) is an operation, like addition or subtraction. In fact, it's a lot like addition in binary, except we ignore any carries.\n",
    "\n",
    "That is: 1 ⊕ 1 = 0, 1 ⊕ 0 = 1, and 0 ⊕ 0 = 0.\n",
    "\n",
    "Another way to think about it is A ⊕ B = 1 if A and B are different bits, and A ⊕ B = 0 if A and B are the same bit.\n",
    "\n",
    "If there are multiple units, like in the case of a byte, we can treat them all individually.\n",
    "\n",
    "For example, 111 ⊕ 101 = 010.\n",
    "\n",
    "#### Question: The opposite of addition is subtraction: if we start with a number, add X, and then subtract X, we are back to the starting number. What is the opposite of XOR?"
   ]
  },
  {
   "cell_type": "markdown",
   "id": "5b7185f1",
   "metadata": {},
   "source": [
    "## Learn XOR mask crypt\n",
    "\n",
    "XOR is a fairly important building block of modern cryptography. It can be as simple as taking a block of secret random and XORing it with your message. If this is done with some caveats (like the secret block as long as the message, and never used again) then the system is proven to be 100% secure. \n",
    "\n",
    "Let's walk through this encryption to see what effect is has on the binary."
   ]
  },
  {
   "cell_type": "markdown",
   "id": "86ec1877",
   "metadata": {},
   "source": [
    "## Encrypt files\n",
    "\n",
    "Let's get the computer to generate a secret key, then encrypt the text file."
   ]
  },
  {
   "cell_type": "markdown",
   "id": "be4969d1",
   "metadata": {},
   "source": [
    "Choose a key length for us to use. In this case, the longer the key the more secure it will be, and at some point the attack we use will stop working. Note that this is not always a reliable assumption!\n",
    "\n",
    "We'll use this key again later when we look at breaking the cipher, so remember to come back up here if you want to change it!"
   ]
  },
  {
   "cell_type": "code",
   "execution_count": null,
   "id": "d526680d",
   "metadata": {
    "scrolled": true
   },
   "outputs": [],
   "source": [
    "global my_key\n",
    "\n",
    "key_slider = widgets.IntSlider(value=16,min=1,max=128,description='Key Length')\n",
    "\n",
    "def encrypt(b,k):\n",
    "    bytes_out = bytearray([])\n",
    "    i = 0\n",
    "    for byte in b:\n",
    "        bytes_out.append(byte ^ k[i%len(k)])\n",
    "        i += 1\n",
    "    return bytes_out\n",
    "\n",
    "keytext = widgets.Output(value=\"---\", description = \"Key:\")\n",
    "gen_button = widgets.Button(description=\"Generate key\")\n",
    "\n",
    "def generate_key(b):\n",
    "    global my_key\n",
    "    my_key = secrets.token_bytes(key_slider.value)\n",
    "    with keytext:\n",
    "        keytext.clear_output()\n",
    "        print(\"Your key is:\",''.join([\"%02x\"%x for x in my_key]))\n",
    "\n",
    "gen_button.on_click(generate_key)\n",
    "widgets.VBox([key_slider,gen_button,keytext])"
   ]
  },
  {
   "cell_type": "markdown",
   "id": "e64ac2f0",
   "metadata": {},
   "source": [
    "## Encrypt the files\n",
    "\n",
    "Let's see how the file looks after we encrypt it. We'll also take our secret file and encrypt it now. Press the 'Prepare files' button. This step will take a little while but you'll know it's done when it shows you pictures of the binary files."
   ]
  },
  {
   "cell_type": "code",
   "execution_count": null,
   "id": "b3c06631",
   "metadata": {
    "scrolled": true
   },
   "outputs": [],
   "source": [
    "global img_encrypted\n",
    "global enc_secret\n",
    "def prepare(arg):\n",
    "    global img_encrypted\n",
    "    global enc_secret\n",
    "    b_secret = load_file_as_bytes(\"Sample Files/secret.txt\")\n",
    "    enc_secret = encrypt(b_secret,my_key)\n",
    "\n",
    "    b_test = load_file_as_bytes(\"Sample Files/image.bmp\")\n",
    "    draw_image_from_byte_array(b_test)\n",
    "    img1 = display.Image(\"imgout.png\",width=512,height=512)\n",
    "\n",
    "    img_encrypted = encrypt(b_test,my_key)\n",
    "    draw_image_from_byte_array(img_encrypted,\"encrypted.png\")\n",
    "    img2 = display.Image(\"encrypted.png\",width=512,height=512)\n",
    "\n",
    "    prepare_output.clear_output()\n",
    "    with prepare_output:\n",
    "        print(\"The original binary file:\")\n",
    "        display.display(img1)\n",
    "\n",
    "        print(\"The encrypted binary file:\")\n",
    "        display.display(img2)\n",
    "        \n",
    "        print(\"Ready to move on!\")\n",
    "\n",
    "prepare_encryption_button = widgets.Button(description=\"Prepare files\")\n",
    "prepare_encryption_button.on_click(prepare)\n",
    "prepare_output = widgets.Output()\n",
    "widgets.VBox([prepare_encryption_button,prepare_output])"
   ]
  },
  {
   "cell_type": "markdown",
   "id": "07f553b2",
   "metadata": {},
   "source": [
    "#### Discussion: What does the encrypted data look like now?\n",
    "\n",
    "We can see that where the file was particularly structured, the encrypted version is still a bit structured, but in the less structured portion, it looks essentially random. This will also depend on how long you chose to make your key."
   ]
  },
  {
   "cell_type": "markdown",
   "id": "4d849857",
   "metadata": {},
   "source": [
    "## Decrypt files\n",
    "\n",
    "Now we have to write a decrypt function. This should take the encrypted data and the key, and undo the operations of the encrypt function.\n",
    "\n",
    "#### Discussion: Isn't it convenient that the encryption function and decryption function are exactly the same?"
   ]
  },
  {
   "cell_type": "code",
   "execution_count": null,
   "id": "086dae77",
   "metadata": {},
   "outputs": [],
   "source": [
    "def decrypt(b,k):\n",
    "    return encrypt(b,k) "
   ]
  },
  {
   "cell_type": "markdown",
   "id": "63b0cba2",
   "metadata": {},
   "source": [
    "## Look at files"
   ]
  },
  {
   "cell_type": "markdown",
   "id": "cb80907f",
   "metadata": {},
   "source": [
    "While we still know the key, let's press the button to decrypt our file and make sure it's all working."
   ]
  },
  {
   "cell_type": "code",
   "execution_count": null,
   "id": "e505983f",
   "metadata": {
    "scrolled": false
   },
   "outputs": [],
   "source": [
    "global img_decrypted\n",
    "def show_files(arg):\n",
    "    global img_decrypted\n",
    "    show_output.clear_output()\n",
    "    with show_output:\n",
    "        img_decrypted = decrypt(img_encrypted,my_key)\n",
    "        draw_image_from_byte_array(img_decrypted,\"decrypted.png\")\n",
    "        print(\"The decrypted binary file:\")\n",
    "        display.display(display.Image(\"decrypted.png\",width=512,height=512))\n",
    "    \n",
    "show_button = widgets.Button(description='Show file')\n",
    "show_button.on_click(show_files)\n",
    "show_output = widgets.Output()\n",
    "\n",
    "widgets.VBox([show_button,show_output])"
   ]
  },
  {
   "cell_type": "markdown",
   "id": "9ac78a8a",
   "metadata": {},
   "source": [
    "## Convert from bytes back into a file\n",
    "\n",
    "And lastly, press the button below to convert it into readable text."
   ]
  },
  {
   "cell_type": "code",
   "execution_count": null,
   "id": "88f1f198",
   "metadata": {
    "scrolled": true
   },
   "outputs": [],
   "source": [
    "button = widgets.Button(description=\"Check decrypt!\")\n",
    "output = widgets.Output()\n",
    "\n",
    "display.display(button, output)\n",
    "\n",
    "def on_button_clicked(b):\n",
    "    output.clear_output()\n",
    "    output.append_display_data(display.Image(img_decrypted))\n",
    "\n",
    "button.on_click(on_button_clicked)"
   ]
  },
  {
   "cell_type": "markdown",
   "id": "14c0262a",
   "metadata": {},
   "source": [
    "If a lovely image appeared above, then the decryption function worked as planned."
   ]
  },
  {
   "cell_type": "markdown",
   "id": "7e965fda",
   "metadata": {},
   "source": [
    "# Now for _CRYPTANALYSIS_\n",
    "\n",
    "We have to be able to understand the mind of the attacker to see if our system really is secure, so we're going to try and crack another file.\n",
    "\n",
    "In practice, it's good to assume your attacker knows how your encryption system works, but they do not know the secret key used. If we design our system with this in mind, we only have to think about protecting our key, and not have to worry about other things (like our encryption program itself) being kept secret.\n",
    "\n",
    "Using our XOR cipher, we'll see that patterns and structure in the encrypted files can be enough to recover the key. We'll be encrypting a text document (language is very structured).\n",
    "\n",
    "#### Discussion: How could patterns and structure in the underlying message, or in the cipher, help us break it?\n"
   ]
  },
  {
   "cell_type": "markdown",
   "id": "be40885d",
   "metadata": {},
   "source": [
    "## Finding the key length\n",
    "\n",
    "Our first step will be determining the key length. This will help us impose structure on the data to give us more insight into the secret key.\n",
    "\n",
    "If this coincidence is strong enough, we'll be able to use it to recover the key length. What we're doing is looking for repeats in the cipher text, that are at least 4 bytes long, and appear at least 4 times."
   ]
  },
  {
   "cell_type": "code",
   "execution_count": null,
   "id": "9b8c6d5a",
   "metadata": {},
   "outputs": [],
   "source": [
    "global putative_key_length\n",
    "def find_repeated_segments(b,length=4,min_repeats=4):\n",
    "    found = {}\n",
    "    for i in range(len(b) - length + 1):\n",
    "        segment = b[i:i+length]\n",
    "        if segment not in found:\n",
    "            found[segment] = []\n",
    "        found[segment].append(i)\n",
    "    \n",
    "    repeated = {}\n",
    "    for segment in found:\n",
    "        if len(found[segment]) >= min_repeats:\n",
    "            repeated[segment] = found[segment]\n",
    "    \n",
    "    return repeated \n",
    "\n",
    "def differences_in_array(a):\n",
    "    diffs = []\n",
    "    for i in range(len(a) - 1):\n",
    "        diffs.append(a[i+1] - a[i])\n",
    "    return diffs\n",
    "\n",
    "def gcd_of_differences(d):\n",
    "    def gcd(a,b):\n",
    "        while b>0:\n",
    "            a,b = b,a%b\n",
    "        return a\n",
    "    g = d[0]\n",
    "    for i in range(1, len(d)):\n",
    "        g = gcd(g,d[i])\n",
    "    return g\n",
    "\n",
    "def find_length(arg):\n",
    "    global putative_key_length\n",
    "    rs = find_repeated_segments(bytes(enc_secret))\n",
    "    if len(rs.keys()) == 0:\n",
    "        with key_length_output:\n",
    "            print(\"Oh no! There was not enough structure to break this. See a helper!\")\n",
    "            return\n",
    "    rsk = list(rs.keys())[0]\n",
    "\n",
    "    #Calculate how far apart they occur\n",
    "    d = differences_in_array(rs[rsk])\n",
    "\n",
    "    #Find the largest key that could line up with all of these occurrences\n",
    "    putative_key_length = gcd_of_differences(d)\n",
    "    key_length_output.clear_output()\n",
    "    with key_length_output:\n",
    "        print(\"Putative key length:\",putative_key_length)\n",
    "\n",
    "key_length_button = widgets.Button(description=\"Find Length\")\n",
    "key_length_button.on_click(find_length)\n",
    "key_length_output = widgets.Output()\n",
    "\n",
    "widgets.VBox([key_length_button,key_length_output])"
   ]
  },
  {
   "cell_type": "markdown",
   "id": "af0cd0d1",
   "metadata": {},
   "source": [
    "## Get best key guess\n",
    "\n",
    "Now we're choosing the key that makes our decrypted file have the most ordinary structure. This code will do this by choosing each individual key byte to be the one that maximises the occurrences of what we expect to be the most common byte. Each byte corresponds to exactly one character, so the question is really what is the most common character?\n",
    "\n",
    "#### Discussion: What would we expect the most common character in a text file to be?"
   ]
  },
  {
   "cell_type": "code",
   "execution_count": null,
   "id": "41f194d3",
   "metadata": {
    "scrolled": true
   },
   "outputs": [],
   "source": [
    "#This function returns the 'majority' byte of a given bytearray\n",
    "def majority(ba):\n",
    "    results = {}\n",
    "    \n",
    "    for b in ba:\n",
    "        if b not in results:\n",
    "            results[b] = 0\n",
    "        results[b] += 1\n",
    "        \n",
    "    return max(results.keys(),key=lambda b : results[b])\n",
    "    \n",
    "        \n",
    "#This function breaks the bytearray into sub-sequences of every 'cutsize'th entry.\n",
    "def slice(ba,cutsize):\n",
    "    subsequences = {}\n",
    "    for i in range(cutsize):\n",
    "        subsequences[i] = bytearray()\n",
    "    i = 0\n",
    "    while i < len(ba):\n",
    "        subsequences[i%cutsize].append(ba[i])\n",
    "        i += 1\n",
    "    return subsequences\n",
    "\n",
    "    \n",
    "def find_key(arg):\n",
    "    if len(common_character_field.value) != 1:\n",
    "        return\n",
    "    plain_majority = ord(common_character_field.value)\n",
    "    cuts = slice(enc_secret,putative_key_length)\n",
    "    majority_of_cuts = bytearray()\n",
    "    for c in cuts:\n",
    "        majority_of_cuts.append(majority(cuts[c]) ^ plain_majority)\n",
    "\n",
    "    global suspect_key\n",
    "    suspect_key = bytes(majority_of_cuts)\n",
    "    find_key_output.clear_output()\n",
    "    with find_key_output:\n",
    "        print(\"We have guessed our key length is %d bytes (%d bits) (let's hope we're correct!)\"%(putative_key_length,8*putative_key_length))\n",
    "        print(\"We guessed the most common character is '%s'.\"%common_character_field.value)\n",
    "        print(\"Key guess:\",''.join([\"%02x\"%x for x in suspect_key]))\n",
    "\n",
    "common_character_field = widgets.Text(description=\"Character:\")\n",
    "find_key_button = widgets.Button(description=\"Find Key\")\n",
    "find_key_output = widgets.Output()\n",
    "\n",
    "find_key_button.on_click(find_key)\n",
    "widgets.VBox([common_character_field,find_key_button,find_key_output])"
   ]
  },
  {
   "cell_type": "markdown",
   "id": "0c66e9db",
   "metadata": {},
   "source": [
    "If our key guess was good, the decrypted text should be mostly readable. Press the button below to find out! If it still looks really messy, try a different character and Find Key again."
   ]
  },
  {
   "cell_type": "code",
   "execution_count": null,
   "id": "41f095c2",
   "metadata": {},
   "outputs": [],
   "source": [
    "global secret_decrypted\n",
    "def attempt_decrypt(arg):\n",
    "    global secret_decrypted\n",
    "    dec_secret = decrypt(enc_secret, suspect_key)\n",
    "    secret_decrypted = ''.join([chr(x) for x in dec_secret])\n",
    "    attempt_output.clear_output()\n",
    "    with attempt_output:\n",
    "        print(secret_decrypted)\n",
    "    \n",
    "attempt_button = widgets.Button(description=\"Attempt Decrypt\")\n",
    "attempt_button.on_click(attempt_decrypt)\n",
    "attempt_output = widgets.Output()\n",
    "\n",
    "widgets.VBox([attempt_button,attempt_output])"
   ]
  },
  {
   "cell_type": "markdown",
   "id": "a71c31d0",
   "metadata": {},
   "source": [
    "## Make final adjustments to the key."
   ]
  },
  {
   "cell_type": "markdown",
   "id": "40d23c52",
   "metadata": {},
   "source": [
    "Great, it's a fusty old book on ciphers. With that context in mind, we can make the last adjustments manually to recover the key (or at least decide the information within is not worth pursuing). It's possible that the system worked perfectly first time, though this is less likely with a longer key.\n",
    "\n",
    "Use the function below to make changes to individual bytes of the key to fit our expectations.\n",
    "\n",
    "Looking at the left column (that is the index of the key byte), and the corresponding character is the resulting decrypted text. In the character field, put in the single character you believe should be in that place, and press change. Keep going until you are satisfied with the decryption."
   ]
  },
  {
   "cell_type": "code",
   "execution_count": null,
   "id": "c10f1c54",
   "metadata": {
    "scrolled": false
   },
   "outputs": [],
   "source": [
    "def swap_key_characters(arg):\n",
    "    global suspect_key\n",
    "    global secret_decrypted\n",
    "    global putative_key_length\n",
    "    \n",
    "    if len(character_input.value) != 1:\n",
    "        return\n",
    "    \n",
    "    i = index_input.value\n",
    "    \n",
    "    suspect_key = bytes([suspect_key[i%putative_key_length] ^ ord(secret_decrypted[i]) ^ ord(character_input.value) if (i%putative_key_length) == j else suspect_key[j] for j in range(len(suspect_key))])\n",
    "\n",
    "    dec_secret = decrypt(enc_secret, suspect_key)\n",
    "    secret_decrypted = ''.join([chr(x) for x in dec_secret])\n",
    "    \n",
    "    key_list.clear_output()\n",
    "    with key_list:\n",
    "        offset = 0\n",
    "        for i in range(offset*putative_key_length,(offset+1)*putative_key_length):\n",
    "            print(\"% 4d %s\"%(i,secret_decrypted[i]))\n",
    "    final_decrypt.clear_output()\n",
    "    with final_decrypt:\n",
    "        print(secret_decrypted)\n",
    "\n",
    "    key_list.clear_output()\n",
    "    with key_list:\n",
    "        for i in range(putative_key_length):\n",
    "            print(\"% 4d %s\"%(i,secret_decrypted[i]))\n",
    "    final_decrypt.clear_output()\n",
    "    with final_decrypt:\n",
    "        print(secret_decrypted)\n",
    "        \n",
    "def ready(arg):\n",
    "    key_list.clear_output()\n",
    "    with key_list:\n",
    "        for i in range(putative_key_length):\n",
    "            print(\"% 4d %s\"%(i,secret_decrypted[i]))\n",
    "    final_decrypt.clear_output()\n",
    "    with final_decrypt:\n",
    "        print(secret_decrypted)\n",
    "        \n",
    "    with ready_output:\n",
    "        ready_output.clear_output()\n",
    "        display.display(widgets.VBox([index_input,character_input,input_button,widgets.HBox([key_list,final_decrypt])]))    \n",
    "       \n",
    "index_input = widgets.IntText(description='Index:')\n",
    "character_input = widgets.Text(description='Character:')\n",
    "input_button = widgets.Button(description=\"Change\")\n",
    "input_button.on_click(swap_key_characters)\n",
    "final_decrypt = widgets.Output()\n",
    "key_list = widgets.Output(layout=widgets.Layout(min_width='8%')) \n",
    "\n",
    "ready_button = widgets.Button(description=\"Ready!\")\n",
    "ready_button.on_click(ready)\n",
    "ready_output = widgets.Output()\n",
    "with ready_output:\n",
    "    display.display(ready_button)\n",
    "    \n",
    "ready_output"
   ]
  }
 ],
 "metadata": {
  "kernelspec": {
   "display_name": "Python 3 (ipykernel)",
   "language": "python",
   "name": "python3"
  },
  "language_info": {
   "codemirror_mode": {
    "name": "ipython",
    "version": 3
   },
   "file_extension": ".py",
   "mimetype": "text/x-python",
   "name": "python",
   "nbconvert_exporter": "python",
   "pygments_lexer": "ipython3",
   "version": "3.9.13"
  }
 },
 "nbformat": 4,
 "nbformat_minor": 5
}
